{
  "nbformat": 4,
  "nbformat_minor": 0,
  "metadata": {
    "colab": {
      "name": "Python_interview.ipynb",
      "provenance": [],
      "authorship_tag": "ABX9TyOePR2tMLARPW/O7+I+F9bP",
      "include_colab_link": true
    },
    "kernelspec": {
      "name": "python3",
      "display_name": "Python 3"
    },
    "language_info": {
      "name": "python"
    }
  },
  "cells": [
    {
      "cell_type": "markdown",
      "metadata": {
        "id": "view-in-github",
        "colab_type": "text"
      },
      "source": [
        "<a href=\"https://colab.research.google.com/github/Shashank-Mittal/Machine-Learning-from-Basics-to-Advanced/blob/main/Python_interview.ipynb\" target=\"_parent\"><img src=\"https://colab.research.google.com/assets/colab-badge.svg\" alt=\"Open In Colab\"/></a>"
      ]
    },
    {
      "cell_type": "code",
      "execution_count": null,
      "metadata": {
        "colab": {
          "base_uri": "https://localhost:8080/"
        },
        "id": "ssAN-ERsLHek",
        "outputId": "44f6417e-06f9-4194-8721-d0961b0be9bc"
      },
      "outputs": [
        {
          "output_type": "stream",
          "name": "stdout",
          "text": [
            "[1]\n",
            "[1, 2]\n",
            "[1, 2, 3]\n",
            "[1, 2, 3, 5]\n",
            "[1, 2, 3, 5, 7]\n",
            "[1, 2, 3, 5, 7, 10, 9, 20, 25]\n"
          ]
        }
      ],
      "source": [
        "arr_1 = [1,5,7,10]\n",
        "arr_2 = [2,3,9,20,25]\n",
        "\n",
        "def sorted_arr(arr_1, arr_2):\n",
        "\n",
        "  if(len(arr_1)>len(arr_2)):\n",
        "\n",
        "    max_length_arr = len(arr_1)\n",
        "\n",
        "  else:\n",
        "    max_length_arr = len(arr_2)\n",
        "\n",
        "  #total_new_arr_length = len(arr_1)+len(arr_2)\n",
        "  \n",
        "  #print(total_new_arr_length)\n",
        "\n",
        "  new_sorted_arr = []\n",
        "\n",
        "  index_1=0\n",
        "  index_2 = 0\n",
        "  for i in range(max_length_arr):\n",
        "\n",
        "    if(arr_1[index_1]<arr_2[index_2]):\n",
        "      new_sorted_arr.append(arr_1[index_1])\n",
        "      index_1 = index_1 + 1\n",
        "    else:\n",
        "      new_sorted_arr.append(arr_2[index_2])\n",
        "      index_2 = index_2 + 1\n",
        "\n",
        "    print(new_sorted_arr)\n",
        "\n",
        "  if index_1<len(arr_1):\n",
        "    new_sorted_arr.extend(arr_1[index_1:])\n",
        "  if index_2<len(arr_2):\n",
        "    new_sorted_arr.extend(arr_2[index_2:])\n",
        "\n",
        "  print(new_sorted_arr)\n",
        "\n",
        "sorted_arr(arr_1, arr_2)"
      ]
    },
    {
      "cell_type": "code",
      "source": [
        "str_1 = \"PytHonTest\"\n",
        "str_1_list = list(str_1)\n",
        "print(str_1_list[0].lower(), end=\"\")\n",
        "for i in range(1,len(str_1_list)):\n",
        "\n",
        "  if ord(str_1_list[i]) < 97:\n",
        "    print(\"_\"+str_1_list[i].lower(), end=\"\")\n",
        "  else:\n",
        "    print(str_1_list[i], end=\"\")\n"
      ],
      "metadata": {
        "colab": {
          "base_uri": "https://localhost:8080/"
        },
        "id": "Oe9R5DjDQmza",
        "outputId": "0bbcae84-379e-4350-ae21-70ffbf6cfa44"
      },
      "execution_count": null,
      "outputs": [
        {
          "output_type": "stream",
          "name": "stdout",
          "text": [
            "pyt_hon_test"
          ]
        }
      ]
    },
    {
      "cell_type": "code",
      "source": [
        "arr_1 = [1,3,5,10,0]\n",
        "new_arr = []\n",
        "\n",
        "def multi(arr_1):\n",
        "\n",
        "  for index, value in enumerate(arr_1):\n",
        "    multiplication_value = 1\n",
        "    for index_1, value in enumerate(arr_1):\n",
        "\n",
        "      if index == index_1:\n",
        "        continue\n",
        "      else:\n",
        "        multiplication_value = multiplication_value*value\n",
        "\n",
        "    new_arr.append(multiplication_value)\n",
        "\n",
        "  return new_arr\n",
        "\n",
        "\n",
        "new_arr = multi(arr_1)\n",
        "print(new_arr)"
      ],
      "metadata": {
        "colab": {
          "base_uri": "https://localhost:8080/"
        },
        "id": "ag1VxMcoSFrt",
        "outputId": "f3bf66f2-946b-41c7-8952-af1584d38cc3"
      },
      "execution_count": null,
      "outputs": [
        {
          "output_type": "stream",
          "name": "stdout",
          "text": [
            "[0, 0, 0, 0, 150]\n"
          ]
        }
      ]
    },
    {
      "cell_type": "code",
      "source": [
        "arr_1 = [7,6,5,4,3]\n",
        "\n",
        "new_dict = {}\n",
        "\n",
        "for index_1,value_1 in enumerate(arr_1):\n",
        "  for index_2,value_2 in enumerate(arr_1[index_1+1:]):\n",
        "    if value_1 == value_2:\n",
        "      new_dict[value_1] = index_2\n",
        "\n",
        "lowest_index_duplicate = 1000000\n",
        "flag= False\n",
        "value = 0 \n",
        "for i in new_dict.items():\n",
        "  if(i[1] < lowest_index_duplicate):\n",
        "    value = i[0]\n",
        "    lowest_index_duplicate = i[1]\n",
        "    flag = True\n",
        "\n",
        "if flag == False:\n",
        "  print(\"-1\")\n",
        "else:\n",
        "  print(value)\n",
        "\n"
      ],
      "metadata": {
        "colab": {
          "base_uri": "https://localhost:8080/"
        },
        "id": "TTNYC0NBTefG",
        "outputId": "1882c87d-2b7a-44e3-c265-eabe3262cc72"
      },
      "execution_count": null,
      "outputs": [
        {
          "output_type": "stream",
          "name": "stdout",
          "text": [
            "-1\n"
          ]
        }
      ]
    },
    {
      "cell_type": "code",
      "source": [
        ""
      ],
      "metadata": {
        "id": "7DasXtOoWxiG"
      },
      "execution_count": null,
      "outputs": []
    }
  ]
}