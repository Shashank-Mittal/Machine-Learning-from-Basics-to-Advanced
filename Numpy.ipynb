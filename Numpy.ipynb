{
  "nbformat": 4,
  "nbformat_minor": 0,
  "metadata": {
    "colab": {
      "name": "Numpy_part_1.ipynb",
      "provenance": [],
      "collapsed_sections": [],
      "authorship_tag": "ABX9TyNlWtgVXfMb+O3jzL5beMXB",
      "include_colab_link": true
    },
    "kernelspec": {
      "name": "python3",
      "display_name": "Python 3"
    },
    "language_info": {
      "name": "python"
    }
  },
  "cells": [
    {
      "cell_type": "markdown",
      "metadata": {
        "id": "view-in-github",
        "colab_type": "text"
      },
      "source": [
        "<a href=\"https://colab.research.google.com/github/Shashank-Mittal/Machine-Learning-from-Basics-to-Advanced/blob/main/Numpy.ipynb\" target=\"_parent\"><img src=\"https://colab.research.google.com/assets/colab-badge.svg\" alt=\"Open In Colab\"/></a>"
      ]
    },
    {
      "cell_type": "markdown",
      "source": [
        "1: Linear Algebra Library\n",
        "2: Numpy is like a building block for other libraries\n",
        "3: Numpy is fast "
      ],
      "metadata": {
        "id": "8IoBtFk_xDPf"
      }
    },
    {
      "cell_type": "code",
      "source": [
        "import numpy as np"
      ],
      "metadata": {
        "id": "S_kyn2Q-xXAE"
      },
      "execution_count": 2,
      "outputs": []
    },
    {
      "cell_type": "markdown",
      "source": [
        "Numpy array are of 2 types\n",
        "\n",
        "\n",
        "1.   Vector 1-D array\n",
        "2.   Metrices 2-D array\n",
        "\n"
      ],
      "metadata": {
        "id": "TPN5Rroozvyr"
      }
    },
    {
      "cell_type": "code",
      "source": [
        "#Convert Python list to numpy array\n",
        "my_list = [1,2,3]\n",
        "np_arr = np.array(my_list)\n",
        "print(np_arr,type(np_arr))"
      ],
      "metadata": {
        "colab": {
          "base_uri": "https://localhost:8080/"
        },
        "id": "h-gq5iLgzDgY",
        "outputId": "ee7e82c0-0e35-404e-dc20-2330d054009d"
      },
      "execution_count": 3,
      "outputs": [
        {
          "output_type": "stream",
          "name": "stdout",
          "text": [
            "[1 2 3] <class 'numpy.ndarray'>\n"
          ]
        }
      ]
    },
    {
      "cell_type": "code",
      "source": [
        "#Built in methods\n",
        "print(np.arange(0,10))\n",
        "print(np.zeros((1,7)))\n",
        "print(np.ones((1,7)))\n",
        "print(np.linspace(1,7,4))  # return number of values between specified interval\n",
        "print(np.eye(4))\n"
      ],
      "metadata": {
        "colab": {
          "base_uri": "https://localhost:8080/"
        },
        "id": "etXG60s-0jLe",
        "outputId": "669b43fb-ecda-493e-c5e3-66f7c429cb36"
      },
      "execution_count": 4,
      "outputs": [
        {
          "output_type": "stream",
          "name": "stdout",
          "text": [
            "[0 1 2 3 4 5 6 7 8 9]\n",
            "[[0. 0. 0. 0. 0. 0. 0.]]\n",
            "[[1. 1. 1. 1. 1. 1. 1.]]\n",
            "[1. 3. 5. 7.]\n",
            "[[1. 0. 0. 0.]\n",
            " [0. 1. 0. 0.]\n",
            " [0. 0. 1. 0.]\n",
            " [0. 0. 0. 1.]]\n"
          ]
        }
      ]
    },
    {
      "cell_type": "markdown",
      "source": [
        "**RANDOM**"
      ],
      "metadata": {
        "id": "mL6M81Gx7dja"
      }
    },
    {
      "cell_type": "code",
      "source": [
        "print(np.random.rand(2,4))  #return uniform distribution\n",
        "print(np.random.randn(2,4))  #return normal distribution\n",
        "print(np.random.randint(0,50,10))  "
      ],
      "metadata": {
        "colab": {
          "base_uri": "https://localhost:8080/"
        },
        "id": "PqPh7v3S7cfX",
        "outputId": "56421f71-bc22-40e8-e57d-7353ddaedae1"
      },
      "execution_count": 5,
      "outputs": [
        {
          "output_type": "stream",
          "name": "stdout",
          "text": [
            "[[0.23399155 0.24383271 0.30698563 0.38551023]\n",
            " [0.50736637 0.0080911  0.74077826 0.81675812]]\n",
            "[[ 0.46664576  0.91325023 -1.7381615  -1.79459016]\n",
            " [-1.26635579 -0.82706455  0.46564612  0.92432094]]\n",
            "[29 44 46 22 21  5 16  0 47 33]\n"
          ]
        }
      ]
    },
    {
      "cell_type": "markdown",
      "source": [
        "**ATTRIBUTES**"
      ],
      "metadata": {
        "id": "esdIsJ76C7jt"
      }
    },
    {
      "cell_type": "code",
      "source": [
        "arr = np.random.rand(2,4)\n",
        "\n",
        "#Reshape\n",
        "new_arr = arr.reshape(1,8)\n",
        "print(new_arr)\n",
        "\n",
        "print(\"Max: \", new_arr.max())\n",
        "print(\"First index value of maxium value: \", new_arr.argmax())\n",
        "\n",
        "print(\"Min: \", new_arr.min())\n",
        "print(\"First index value of minimum value: \", new_arr.argmin())"
      ],
      "metadata": {
        "colab": {
          "base_uri": "https://localhost:8080/"
        },
        "id": "EykRhIJMDBoY",
        "outputId": "750a79c0-09c8-4225-a538-1c9c33944c61"
      },
      "execution_count": 6,
      "outputs": [
        {
          "output_type": "stream",
          "name": "stdout",
          "text": [
            "[[0.93697067 0.31355729 0.65764991 0.64931223 0.73362314 0.56486838\n",
            "  0.86764305 0.75900515]]\n",
            "Max:  0.9369706685650228\n",
            "First index value of maxium value:  0\n",
            "Min:  0.31355729060429194\n",
            "First index value of minimum value:  1\n"
          ]
        }
      ]
    },
    {
      "cell_type": "markdown",
      "source": [
        "**Numpy Opertations**"
      ],
      "metadata": {
        "id": "kkbba9NsGLcJ"
      }
    },
    {
      "cell_type": "code",
      "source": [
        "arr_1 = np.arange(0,10)\n",
        "arr_2 = np.arange(10,20)\n",
        "\n",
        "diff = arr_2 - arr_1\n",
        "sum_ = arr_2 + arr_1\n",
        "multiplication_ = arr_2 * arr_1\n",
        "divide = arr_2 / arr_1\n",
        "\n",
        "print(sum_)\n",
        "print(diff)\n",
        "print(multiplication_)\n",
        "print(divide)"
      ],
      "metadata": {
        "colab": {
          "base_uri": "https://localhost:8080/"
        },
        "id": "z2XdOJsoFYVL",
        "outputId": "2d1787af-ddc1-4417-f1ff-847dda2ba9a8"
      },
      "execution_count": 7,
      "outputs": [
        {
          "output_type": "stream",
          "name": "stdout",
          "text": [
            "[10 12 14 16 18 20 22 24 26 28]\n",
            "[10 10 10 10 10 10 10 10 10 10]\n",
            "[  0  11  24  39  56  75  96 119 144 171]\n",
            "[        inf 11.          6.          4.33333333  3.5         3.\n",
            "  2.66666667  2.42857143  2.25        2.11111111]\n"
          ]
        },
        {
          "output_type": "stream",
          "name": "stderr",
          "text": [
            "/usr/local/lib/python3.7/dist-packages/ipykernel_launcher.py:7: RuntimeWarning: divide by zero encountered in true_divide\n",
            "  import sys\n"
          ]
        }
      ]
    },
    {
      "cell_type": "markdown",
      "source": [
        "**Universal Array Functions**"
      ],
      "metadata": {
        "id": "eYSh6b31iKAP"
      }
    },
    {
      "cell_type": "code",
      "source": [
        "print(np.sqrt(arr_1))\n",
        "print(np.log(arr_1))\n",
        "print(np.sin(arr_1))\n",
        "print(np.exp(arr_1))\n"
      ],
      "metadata": {
        "colab": {
          "base_uri": "https://localhost:8080/"
        },
        "id": "GxM_uVE0gv0j",
        "outputId": "d49153b1-583f-4744-80ce-48d1aa4aab20"
      },
      "execution_count": 8,
      "outputs": [
        {
          "output_type": "stream",
          "name": "stdout",
          "text": [
            "[0.         1.         1.41421356 1.73205081 2.         2.23606798\n",
            " 2.44948974 2.64575131 2.82842712 3.        ]\n",
            "[      -inf 0.         0.69314718 1.09861229 1.38629436 1.60943791\n",
            " 1.79175947 1.94591015 2.07944154 2.19722458]\n",
            "[ 0.          0.84147098  0.90929743  0.14112001 -0.7568025  -0.95892427\n",
            " -0.2794155   0.6569866   0.98935825  0.41211849]\n",
            "[1.00000000e+00 2.71828183e+00 7.38905610e+00 2.00855369e+01\n",
            " 5.45981500e+01 1.48413159e+02 4.03428793e+02 1.09663316e+03\n",
            " 2.98095799e+03 8.10308393e+03]\n"
          ]
        },
        {
          "output_type": "stream",
          "name": "stderr",
          "text": [
            "/usr/local/lib/python3.7/dist-packages/ipykernel_launcher.py:2: RuntimeWarning: divide by zero encountered in log\n",
            "  \n"
          ]
        }
      ]
    },
    {
      "cell_type": "markdown",
      "source": [
        "**Indexing and Slicing**"
      ],
      "metadata": {
        "id": "6sYCF0bGiaTN"
      }
    },
    {
      "cell_type": "code",
      "source": [
        "print(arr_1[0])\n",
        "print(arr_1[0:])"
      ],
      "metadata": {
        "colab": {
          "base_uri": "https://localhost:8080/"
        },
        "id": "0_VUHx_IoGDd",
        "outputId": "6daa0c6f-8d55-414e-9af8-38ec1b00cca8"
      },
      "execution_count": 14,
      "outputs": [
        {
          "output_type": "stream",
          "name": "stdout",
          "text": [
            "0\n",
            "[0 1 2 3 4 5 6 7 8 9]\n"
          ]
        }
      ]
    },
    {
      "cell_type": "markdown",
      "source": [
        "**Selection**"
      ],
      "metadata": {
        "id": "NxWmnuzeooZ9"
      }
    },
    {
      "cell_type": "code",
      "source": [
        "arr_1>4"
      ],
      "metadata": {
        "colab": {
          "base_uri": "https://localhost:8080/"
        },
        "id": "_YlANeKBonEN",
        "outputId": "26a587a0-da1b-4c6d-a0a0-3d3f5fe0c622"
      },
      "execution_count": 15,
      "outputs": [
        {
          "output_type": "execute_result",
          "data": {
            "text/plain": [
              "array([False, False, False, False, False,  True,  True,  True,  True,\n",
              "        True])"
            ]
          },
          "metadata": {},
          "execution_count": 15
        }
      ]
    }
  ]
}